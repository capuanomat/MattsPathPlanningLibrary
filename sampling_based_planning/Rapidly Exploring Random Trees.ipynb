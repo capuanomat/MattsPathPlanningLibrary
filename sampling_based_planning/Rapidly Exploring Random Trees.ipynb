{
 "cells": [
  {
   "cell_type": "markdown",
   "metadata": {},
   "source": [
    "<center><h1>Rapidly Exploring Random Trees</h1></center>"
   ]
  },
  {
   "cell_type": "markdown",
   "metadata": {},
   "source": [
    "This document provides a python implementation of RRT, along with some visualizations, tests, and analysis. It was written for testing and learning purposes. Though the python implementation of the algorithm below is correct, you should also primarily use it for learning purposes only. The Java implementation in the parent `javaImplementation` directory is more efficient by virtue of the inherrant properties of the languages, and is what you should use if you're using the path planning library for any intensive search problems.\n",
    "\n",
    "<b>Note</b>: You might notice that I implement a lot of the functionality in a very object-oriented manner, I do this to make the eventual migration of this logic to Java easier."
   ]
  },
  {
   "cell_type": "code",
   "execution_count": 66,
   "metadata": {},
   "outputs": [],
   "source": [
    "import sys\n",
    "import math\n",
    "import random\n",
    "import matplotlib.pyplot as plt \n",
    "import matplotlib.patches as patches"
   ]
  },
  {
   "cell_type": "markdown",
   "metadata": {},
   "source": [
    "For testing purposes, we begin with an implementation of RRT with the search space simply being 2D Cartesian space bounded over some interval (here x and y are limited to values between -15 and 15)."
   ]
  },
  {
   "cell_type": "code",
   "execution_count": 2,
   "metadata": {},
   "outputs": [],
   "source": [
    "class state2D:\n",
    "    \n",
    "    def __init__(self, x, y):\n",
    "        self.x = x\n",
    "        self.y = y\n",
    "        self.dimensionality = 2\n",
    "        \n",
    "    def __repr__(self):\n",
    "        return \"REPR: This state is an instante of state2D\"\n",
    "    \n",
    "    def __str__(self):\n",
    "        return \"({x}, {y})\".format(x=self.x, y = self.y)\n",
    "    \n",
    "    def getCoordinates(self):\n",
    "        return (self.x, self.y)"
   ]
  },
  {
   "cell_type": "code",
   "execution_count": 3,
   "metadata": {},
   "outputs": [],
   "source": [
    "class randomCartesianStateGenerator:\n",
    "    \n",
    "    def __init__(self, lower_bounds, upper_bounds, precision):\n",
    "        self.lower_bounds = lower_bounds\n",
    "        self.upper_bounds = upper_bounds\n",
    "        self.precision = precision\n",
    "    \n",
    "    def generate2D(self):\n",
    "        x = round(random.uniform(self.lower_bounds[0], self.upper_bounds[0]), self.precision)\n",
    "        y = round(random.uniform(self.lower_bounds[1], self.upper_bounds[1]), self.precision)\n",
    "        \n",
    "        return state2D(x, y)"
   ]
  },
  {
   "cell_type": "code",
   "execution_count": 4,
   "metadata": {},
   "outputs": [],
   "source": [
    "class goalCheckerCartesian:\n",
    "    \"\"\"\n",
    "    Checks if a given state is one of the goal states in an n-dimensional Cartesian search space.\n",
    "    \n",
    "    Attributes\n",
    "    ----------\n",
    "    goal_states : [STATE_TYPE]\n",
    "        The set of goal states for the Cartesian search space of interest.\n",
    "    \n",
    "    Methods\n",
    "    -------\n",
    "    isGoalState(...) : boolean\n",
    "        Checks if a given 2D Cartesian state is *exactly* one of the goal states.\n",
    "        \n",
    "    isGoalStateApproximate() : boolean\n",
    "        Checks if a given 2D Cartesian state is *appriximately* one of the goal states.\n",
    "    \"\"\"\n",
    "    \n",
    "    \n",
    "    def __init__(self, goal_states, tolerable_dimension_error):\n",
    "        \"\"\"\n",
    "        Parameters\n",
    "        ----------\n",
    "        goal_states : [STATE_TYPE]\n",
    "            The set of goal states for the Cartesian search space of interest.\n",
    "        tolerable_dimension_error : [float]\n",
    "            This list specifies the tolerable error (inclusive) in every dimension when evaluating a goal state. \n",
    "            For instance, if one 2D goal state is (3, 3) and we are asked about (3.1, 2.96) and the \n",
    "            error_by_dimension = [0.1, 0.5] then that will be considered a goal state. Not so for (3.11, 2.96).\n",
    "        \"\"\"\n",
    "        self.goal_states = goal_states\n",
    "        self.tolerable_dimension_error = tolerable_dimension_error\n",
    "        \n",
    "    \n",
    "    def isGoalState(self, cartesianState):\n",
    "        return cartesianState in goal_states\n",
    "    \n",
    "    \n",
    "    def isGoalStateApproximate(self, test_state):\n",
    "        \"\"\"\n",
    "        Checks if the given state is approximately the same as one of the goal state. \"Approximately\" is defined\n",
    "        by an acceptable error rate across every dimension.\n",
    "        \"\"\"\n",
    "        for goal_state in self.goal_states:\n",
    "            # We will check every dimension and check if state2D dimension n fits within the tolerable error range\n",
    "            check_results = [False] * test_state.dimensionality\n",
    "            \n",
    "            test_state_coordinates = test_state.getCoordinates()\n",
    "            goal_state_coordinates = goal_state.getCoordinates()            \n",
    "            \n",
    "            # Check each dimension at a time if state2D[n] fits within goal[n] +- tolerableError[n]\n",
    "            for n in range(test_state.dimensionality):\n",
    "                if (goal_state_coordinates[n] - self.tolerable_dimension_error[n] <= test_state_coordinates[n]) and (test_state_coordinates[n] <= goal_state_coordinates[n] + self.tolerable_dimension_error[n]):\n",
    "                    check_results[n] = True\n",
    "\n",
    "            if all(check_results):\n",
    "                return True\n",
    "\n",
    "        return False"
   ]
  },
  {
   "cell_type": "code",
   "execution_count": 5,
   "metadata": {},
   "outputs": [],
   "source": [
    "def euclidean_distance_2D(state2D_1, state2D_2):\n",
    "    return math.sqrt(((state2D_1.x - state2D_2.x)**2) + ((state2D_1.y - state2D_2.y)**2))"
   ]
  },
  {
   "cell_type": "code",
   "execution_count": 6,
   "metadata": {},
   "outputs": [
    {
     "name": "stdout",
     "output_type": "stream",
     "text": [
      "(5.93, -5.979)\n",
      "(1.341, 8.201)\n",
      "(13.242, 10.229)\n"
     ]
    }
   ],
   "source": [
    "## Testing everyting above\n",
    "random_state_generator = randomCartesianStateGenerator([-15, -15], [15, 15], 3)\n",
    "\n",
    "print(random_state_generator.generate2D())\n",
    "print(random_state_generator.generate2D())\n",
    "print(random_state_generator.generate2D())"
   ]
  },
  {
   "cell_type": "markdown",
   "metadata": {},
   "source": [
    "<h3>Printing Tools</h3>"
   ]
  },
  {
   "cell_type": "code",
   "execution_count": 42,
   "metadata": {},
   "outputs": [],
   "source": [
    "def states_to_cartesian(states):\n",
    "    x_values = []\n",
    "    y_values = []\n",
    "\n",
    "    for state in states:\n",
    "        x_values.append(state.x)\n",
    "        y_values.append(state.y)\n",
    "        \n",
    "    return (x_values, y_values)"
   ]
  },
  {
   "cell_type": "code",
   "execution_count": 76,
   "metadata": {},
   "outputs": [],
   "source": [
    "def plot_RRT(tree, goal_states, x_bounds, y_bounds):\n",
    "    \n",
    "    fig, ax = plt.subplots()\n",
    "    \n",
    "    x = []\n",
    "    y = []\n",
    "    n = []\n",
    "    \n",
    "    for rrtNode in tree:\n",
    "        state = rrtNode.state\n",
    "        state_coordinates = state.getCoordinates()\n",
    "        x.append(state_coordinates[0])\n",
    "        y.append(state_coordinates[1])\n",
    "        n.append(rrtNode.node_number)\n",
    "        \n",
    "        for neighbor in rrtNode.neighbors:\n",
    "            neighbor_state = neighbor.state\n",
    "            neighbor_state_coordinates = neighbor_state.getCoordinates()\n",
    "            ax.plot([state_coordinates[0], neighbor_state_coordinates[0]], [state_coordinates[1], neighbor_state_coordinates[1]], 'b')\n",
    "    \n",
    "    # Plotting the nodes\n",
    "    ax.scatter(x, y)\n",
    "    \n",
    "    # Annotating the nodes with the number in which they were generated\n",
    "    for i, txt in enumerate(n):\n",
    "            ax.annotate(txt, (x[i], y[i]))    \n",
    "\n",
    "    # Drawing red boxes around goal\n",
    "    for goal_state in goal_states:\n",
    "        goal_state_coordinates = goal_state.getCoordinates()\n",
    "        ax.add_patch(\n",
    "            patches.Rectangle(\n",
    "                xy=(goal_state_coordinates[0] - 1, goal_state_coordinates[1] - 1),  # point of origin.\n",
    "                width=2,    # TODO: This and the one below should be functions of the acceptable error rate\n",
    "                height=2,\n",
    "                linewidth=1,\n",
    "                color='red',\n",
    "                fill=False\n",
    "            )\n",
    "        )\n",
    "            \n",
    "    # Axes limits       \n",
    "    plt.ylim(y_bounds) \n",
    "    plt.xlim(x_bounds) \n",
    "\n",
    "    # Plot and axis lables/titles\n",
    "    plt.xlabel('x') \n",
    "    plt.ylabel('y') \n",
    "    plt.title('RRT Graph') \n",
    "\n",
    "    # Showing the plot\n",
    "    plt.show() "
   ]
  },
  {
   "cell_type": "markdown",
   "metadata": {},
   "source": [
    "<h3>RRT Implementation</h3>"
   ]
  },
  {
   "cell_type": "markdown",
   "metadata": {},
   "source": [
    "<h2>Pseudo code</h2>\n",
    "\n",
    "    EPSILON = max length of an edge in the tree;\n",
    "    K = max number of nodes in the tree;\n",
    "\n",
    "    rrt(start,end){\n",
    "\t    startNode = new Node at start;\n",
    "\t    startTree = new RRTree(startNode);\n",
    "\t    endNode = new Node at end;\n",
    "\t    endTree = new RRTree(endNode);\n",
    "\n",
    "\t    return makePath(startTree,endTree);\t\n",
    "    }\n",
    "\n",
    "    makePath(t1,t2){\n",
    "\t    qRandom = new Node at random location;\n",
    "\t    qNear = nearest node to qRandom in t1;\n",
    "\t    qNew = new Node EPSILON away from qNear in direction of qRandom;\n",
    "\n",
    "\t    t1.add(qNew);\n",
    "\t    if(there's a path from qNew to the closest node in t2) {\n",
    "\t\t    path = path from qNew to root of t1;\n",
    "\t\t    path.append(path from qNew to root of t2);\n",
    "\t\t    return path;\n",
    "\t    } else if(size(t1) < K) {\n",
    "\t\t    return makePath(t2,t1);\n",
    "\t    } else {\n",
    "\t\t    return FAIL;\n",
    "\t    }\n",
    "    }"
   ]
  },
  {
   "cell_type": "code",
   "execution_count": 77,
   "metadata": {},
   "outputs": [],
   "source": [
    "class RRTNode:\n",
    "    \n",
    "    def __init__(self, state, node_number):\n",
    "        self.state = state\n",
    "        self.node_number = node_number\n",
    "        self.neighbors = []\n",
    "\n",
    "        \n",
    "    def addNeighbor(self, neighbor):\n",
    "        self.neighbors.append(neighbor)\n",
    "        \n",
    "    def __str__(self):\n",
    "        state_coordinates = self.state.getCoordinates()\n",
    "        neighbor_coordinates = []\n",
    "        for neighbor in self.neighbors:\n",
    "            neighbor_coordinates.append(neighbor.state.getCoordinates())\n",
    "        return \"({sub1}) --- neighbors: [{sub2}]\".format(sub1=state_coordinates, sub2=neighbor_coordinates)"
   ]
  },
  {
   "cell_type": "code",
   "execution_count": 78,
   "metadata": {},
   "outputs": [],
   "source": [
    "class RapidRandomTrees:\n",
    "    \n",
    "    def __init__(self, growth_factor, max_num_nodes, start_state, goal_states, state_generator, goal_checker):\n",
    "        self.growth_factor = growth_factor\n",
    "        self.max_num_nodes = max_num_nodes\n",
    "        self.start_state = start_state\n",
    "        self.goal_states = goal_states\n",
    "        self.state_generator = state_generator\n",
    "        self.goal_checker = goal_checker\n",
    "        \n",
    "        # Initializing the Tree with just the start node\n",
    "        self.tree = [RRTNode(start_state, 0)]\n",
    "        \n",
    "\n",
    "    def findNearestTreeNode(self, random_state):\n",
    "        # Iterate through all nodes in the tree to find the closest one\n",
    "        closest_tree_node = None\n",
    "        smallest_distance = sys.float_info.max\n",
    "        \n",
    "        for tree_node in self.tree:\n",
    "            distance = euclidean_distance_2D(tree_node.state, random_state)\n",
    "            if (distance < smallest_distance):\n",
    "                closest_tree_node = tree_node\n",
    "                smallest_distance = distance\n",
    "                \n",
    "        #print('New state: ({one}) -- Nearest state: ({two})'.format(one=random_state.getCoordinates(), two=closest_tree_node.state.getCoordinates()))\n",
    "        return closest_tree_node\n",
    "\n",
    "\n",
    "    def searchNoGrowthFactor(self):\n",
    "        \"\"\"\n",
    "        Performs RRT without using a growth factor, i.e. as long as a newly generated state is within the line of sight\n",
    "        of its nearest node on the tree, and vice versa, it will be added to the tree.\n",
    "        \"\"\"\n",
    "        curr_num_nodes = 0;\n",
    "        \n",
    "        while curr_num_nodes < max_num_nodes:\n",
    "            random_state = state_generator.generate2D() # TODO: This line makes RRT dependent on state definition (2D)\n",
    "            random_state_node = RRTNode(random_state, len(self.tree))\n",
    "            \n",
    "            closest_tree_node = self.findNearestTreeNode(random_state)\n",
    "                    \n",
    "            closest_tree_node.addNeighbor(random_state_node)\n",
    "            random_state_node.addNeighbor(closest_tree_node)\n",
    "            self.tree.append(random_state_node)\n",
    "            \n",
    "            if (goal_checker.isGoalStateApproximate(random_state)):\n",
    "                return (self.tree, True)\n",
    "            \n",
    "            curr_num_nodes = len(self.tree)\n",
    "        \n",
    "        # If no state close enough to a goal was generated before reaching the node limit, return the tree anyway, and false\n",
    "        return (self.tree, False)\n",
    "\n",
    "\n",
    "    def search(self):\n",
    "        pass\n"
   ]
  },
  {
   "cell_type": "markdown",
   "metadata": {},
   "source": [
    "<h3>Testing RRT Implementation</h3>"
   ]
  },
  {
   "cell_type": "code",
   "execution_count": 79,
   "metadata": {},
   "outputs": [],
   "source": [
    "def printTreeNodeCoordinates(tree):\n",
    "    for node in tree:\n",
    "        coordinates = node.state.getCoordinates()\n",
    "        print(coordinates)"
   ]
  },
  {
   "cell_type": "code",
   "execution_count": 116,
   "metadata": {},
   "outputs": [
    {
     "name": "stdout",
     "output_type": "stream",
     "text": [
      "100 False\n"
     ]
    },
    {
     "data": {
      "image/png": "[encoded data removed]",
      "text/plain": [
       "<Figure size 432x288 with 1 Axes>"
      ]
     },
     "metadata": {
      "needs_background": "light"
     },
     "output_type": "display_data"
    }
   ],
   "source": [
    "growth_factor = 1\n",
    "max_num_nodes = 100\n",
    "start_state = state2D(-10, -10)\n",
    "goal_states = [state2D(10, 10)]\n",
    "state_generator = randomCartesianStateGenerator([-15, -15], [15, 15], 2)\n",
    "goal_checker = goalCheckerCartesian(goal_states, [1, 1])\n",
    "rrt = RapidRandomTrees(growth_factor, max_num_nodes, start_state, goal_states, state_generator, goal_checker)\n",
    "\n",
    "(resulting_tree, result) = rrt.searchNoGrowthFactor()\n",
    "print(len(resulting_tree), result)\n",
    "\n",
    "# Plotting the tree\n",
    "plot_RRT(resulting_tree, goal_states, [-15, 15], [-15, 15])"
   ]
  },
  {
   "cell_type": "code",
   "execution_count": 102,
   "metadata": {},
   "outputs": [
    {
     "name": "stdout",
     "output_type": "stream",
     "text": [
      "((10.1, 10.19)) --- neighbors: [[(1.51, 10.22)]]\n"
     ]
    }
   ],
   "source": [
    "for node in resulting_tree:\n",
    "    if node.node_number == 10:\n",
    "        print(node)"
   ]
  },
  {
   "cell_type": "code",
   "execution_count": null,
   "metadata": {},
   "outputs": [],
   "source": []
  },
  {
   "cell_type": "code",
   "execution_count": null,
   "metadata": {},
   "outputs": [],
   "source": []
  },
  {
   "cell_type": "code",
   "execution_count": null,
   "metadata": {},
   "outputs": [],
   "source": []
  },
  {
   "cell_type": "code",
   "execution_count": null,
   "metadata": {},
   "outputs": [],
   "source": []
  }
 ],
 "metadata": {
  "kernelspec": {
   "display_name": "Python 3",
   "language": "python",
   "name": "python3"
  },
  "language_info": {
   "codemirror_mode": {
    "name": "ipython",
    "version": 3
   },
   "file_extension": ".py",
   "mimetype": "text/x-python",
   "name": "python",
   "nbconvert_exporter": "python",
   "pygments_lexer": "ipython3",
   "version": "3.8.2"
  },
  "toc": {
   "base_numbering": 1,
   "nav_menu": {},
   "number_sections": true,
   "sideBar": true,
   "skip_h1_title": false,
   "title_cell": "Table of Contents",
   "title_sidebar": "Contents",
   "toc_cell": false,
   "toc_position": {},
   "toc_section_display": true,
   "toc_window_display": false
  }
 },
 "nbformat": 4,
 "nbformat_minor": 2
}
