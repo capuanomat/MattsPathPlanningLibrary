{
 "cells": [
  {
   "cell_type": "markdown",
   "metadata": {},
   "source": [
    "<center><h1>A*</h1></center>"
   ]
  },
  {
   "cell_type": "code",
   "execution_count": 5,
   "metadata": {},
   "outputs": [
    {
     "ename": "LoadError",
     "evalue": "syntax: incomplete: premature end of input",
     "output_type": "error",
     "traceback": [
      "syntax: incomplete: premature end of input",
      "",
      "Stacktrace:",
      " [1] top-level scope at In[5]:1",
      " [2] include_string(::Function, ::Module, ::String, ::String) at ./loading.jl:1091"
     ]
    }
   ],
   "source": [
    "struct MazeGrid\n",
    "    "
   ]
  },
  {
   "cell_type": "code",
   "execution_count": null,
   "metadata": {},
   "outputs": [],
   "source": [
    "function AStar():\n",
    "    frontier = PriorityQueue{}()"
   ]
  },
  {
   "cell_type": "code",
   "execution_count": null,
   "metadata": {},
   "outputs": [],
   "source": [
    "from queue import PriorityQueue\n",
    "\n",
    "def a_star(problem, heuristic):\n",
    "    \"\"\"A* Seach\n",
    "    \n",
    "    Args:\n",
    "        problem: The problem we are running A* on, includes start & goal states, get_neighbors, printing.\n",
    "    \"\"\"\n",
    "    frontier = PriorityQueue()\n",
    "    frontier.put((heuristic(problem.start_state, problem.goal_state), id(problem.start_state), problem.start_state))\n",
    "    explored = [] # set({})\n",
    "    frontier_set = set({})    # Making a set of frontier because checking if state is in a set is faster than in a stack\n",
    "    frontier_set.add(id(problem.start_state))  # Dictionaries are unhashable and can't be added to Hashset, but we can add id\n",
    "    \n",
    "    expanded = []\n",
    "    while (frontier):\n",
    "        queue_entry = frontier.get() \n",
    "        curr_state = queue_entry[2]\n",
    "        explored.append(curr_state)\n",
    "        expanded.append(curr_state)\n",
    "        \n",
    "        neighbors = problem.find_neighbors(curr_state)\n",
    "        for neighbor in neighbors:\n",
    "            if (problem.is_goal_state(neighbor)):\n",
    "                return expanded\n",
    "            if ((neighbor not in explored) and (id(neighbor) not in frontier_set)):\n",
    "                frontier.put((heuristic(neighbor, problem.goal_state), id(neighbor), neighbor))\n",
    "                frontier_set.add(id(neighbor))"
   ]
  },
  {
   "cell_type": "code",
   "execution_count": 13,
   "metadata": {},
   "outputs": [
    {
     "name": "stderr",
     "output_type": "stream",
     "text": [
      "\u001b[32m\u001b[1m Installing\u001b[22m\u001b[39m known registries into `~/.julia`\n",
      "######################################################################### 100.0%\n",
      "\u001b[32m\u001b[1m      Added\u001b[22m\u001b[39m registry `General` to `~/.julia/registries/General`\n"
     ]
    },
    {
     "ename": "LoadError",
     "evalue": "The following package names could not be resolved:\n * PriorityQueue (not found in project, manifest or registry)\n",
     "output_type": "error",
     "traceback": [
      "The following package names could not be resolved:\n * PriorityQueue (not found in project, manifest or registry)\n",
      "",
      "Stacktrace:",
      " [1] pkgerror(::String) at /Users/julia/buildbot/worker/package_macos64/build/usr/share/julia/stdlib/v1.5/Pkg/src/Types.jl:52",
      " [2] ensure_resolved(::Pkg.Types.Context, ::Array{Pkg.Types.PackageSpec,1}; registry::Bool) at /Users/julia/buildbot/worker/package_macos64/build/usr/share/julia/stdlib/v1.5/Pkg/src/Types.jl:837",
      " [3] add(::Pkg.Types.Context, ::Array{Pkg.Types.PackageSpec,1}; preserve::Pkg.Types.PreserveLevel, platform::Pkg.BinaryPlatforms.MacOS, kwargs::Base.Iterators.Pairs{Union{},Union{},Tuple{},NamedTuple{(),Tuple{}}}) at /Users/julia/buildbot/worker/package_macos64/build/usr/share/julia/stdlib/v1.5/Pkg/src/API.jl:177",
      " [4] add(::Pkg.Types.Context, ::Array{Pkg.Types.PackageSpec,1}) at /Users/julia/buildbot/worker/package_macos64/build/usr/share/julia/stdlib/v1.5/Pkg/src/API.jl:139",
      " [5] #add#21 at /Users/julia/buildbot/worker/package_macos64/build/usr/share/julia/stdlib/v1.5/Pkg/src/API.jl:67 [inlined]",
      " [6] add at /Users/julia/buildbot/worker/package_macos64/build/usr/share/julia/stdlib/v1.5/Pkg/src/API.jl:67 [inlined]",
      " [7] #add#20 at /Users/julia/buildbot/worker/package_macos64/build/usr/share/julia/stdlib/v1.5/Pkg/src/API.jl:66 [inlined]",
      " [8] add at /Users/julia/buildbot/worker/package_macos64/build/usr/share/julia/stdlib/v1.5/Pkg/src/API.jl:66 [inlined]",
      " [9] add(::String; kwargs::Base.Iterators.Pairs{Union{},Union{},Tuple{},NamedTuple{(),Tuple{}}}) at /Users/julia/buildbot/worker/package_macos64/build/usr/share/julia/stdlib/v1.5/Pkg/src/API.jl:65",
      " [10] add(::String) at /Users/julia/buildbot/worker/package_macos64/build/usr/share/julia/stdlib/v1.5/Pkg/src/API.jl:65",
      " [11] top-level scope at In[13]:1",
      " [12] include_string(::Function, ::Module, ::String, ::String) at ./loading.jl:1091"
     ]
    }
   ],
   "source": [
    "import Pkg; Pkg.add(\"PriorityQueue\")"
   ]
  },
  {
   "cell_type": "code",
   "execution_count": null,
   "metadata": {},
   "outputs": [],
   "source": [
    "pq = PriorityQueue{Double, Double}()"
   ]
  }
 ],
 "metadata": {
  "kernelspec": {
   "display_name": "Julia 1.5.3",
   "language": "julia",
   "name": "julia-1.5"
  },
  "language_info": {
   "file_extension": ".jl",
   "mimetype": "application/julia",
   "name": "julia",
   "version": "1.5.3"
  }
 },
 "nbformat": 4,
 "nbformat_minor": 2
}
