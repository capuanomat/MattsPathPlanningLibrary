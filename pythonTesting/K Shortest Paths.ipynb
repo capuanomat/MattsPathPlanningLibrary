{
 "cells": [
  {
   "cell_type": "markdown",
   "metadata": {},
   "source": [
    "The idea of the algorithm below is to find the k shortest paths to go from one node to another. I.e. if there are n paths of length l from vertex v1 to vertex v2, then it should return all n of them, if the n+1th shortest path has length >l, then that one shouldn't be returned. Or you could specify k, I haven't yet decided.\n",
    "\n",
    "Looks like such an algorithm already exists:\n",
    "- https://en.wikipedia.org/wiki/K_shortest_path_routing\n",
    "- https://en.wikipedia.org/wiki/Yen%27s_algorithm\n",
    "\n",
    "Maybe I'll re-implement the below using these methods, I made the one below just out of interest.\n",
    "\n",
    "Note that I originally implemented this in my AE8803 Homework 2 Jupyter notebook, so this code my reference some old stuff"
   ]
  },
  {
   "cell_type": "code",
   "execution_count": 1,
   "metadata": {},
   "outputs": [],
   "source": [
    "from queue import PriorityQueue\n",
    "\n",
    "def a_star_k_shortest_path(problem, heuristic):\n",
    "    \"\"\"A* Seach\n",
    "    \n",
    "    Args:\n",
    "        problem: The problem we are running A* on, includes start & goal states, get_neighbors, printing.\n",
    "    \"\"\"\n",
    "    frontier = PriorityQueue()\n",
    "    frontier.put((heuristic(problem.start_state, problem.goal_state), id(problem.start_state), problem.start_state))\n",
    "    explored = [] # set({})\n",
    "    frontier_set = set({})    # Making a set of frontier because checking if state is in a set is faster than in a stack\n",
    "    frontier_set.add(id(problem.start_state))  # Dictionaries are unhashable and can't be added to Hashset, but we can add id\n",
    "    \n",
    "    expanded = []\n",
    "    num_path_found = 0\n",
    "    num_path_wanted = 4\n",
    "    paths_found = []\n",
    "    while (frontier):\n",
    "        if (num_path_found >= num_path_wanted):\n",
    "            return paths_found\n",
    "        \n",
    "        queue_entry = frontier.get() \n",
    "        curr_state = queue_entry[2]\n",
    "        if (problem.is_goal_state(curr_state)):\n",
    "            paths_found.append(expanded)\n",
    "        explored.append(curr_state)\n",
    "        expanded.append(curr_state)\n",
    "        \n",
    "        neighbors = problem.find_neighbors(curr_state)\n",
    "        for neighbor in neighbors:\n",
    "            if (problem.is_goal_state(neighbor)):\n",
    "                print(expanded)\n",
    "                paths_found.append(expanded)\n",
    "                num_path_found += 1\n",
    "            elif ((neighbor not in explored) and (id(neighbor) not in frontier_set)):\n",
    "                frontier.put((heuristic(neighbor, problem.goal_state), id(neighbor), neighbor))\n",
    "                frontier_set.add(id(neighbor))"
   ]
  },
  {
   "cell_type": "code",
   "execution_count": 2,
   "metadata": {},
   "outputs": [
    {
     "name": "stdout",
     "output_type": "stream",
     "text": [
      "\n",
      "***** A* on Grid 1 with Manhattan Distance*****\n"
     ]
    },
    {
     "ename": "NameError",
     "evalue": "name 'grid1' is not defined",
     "output_type": "error",
     "traceback": [
      "\u001b[0;31m---------------------------------------------------------------------------\u001b[0m",
      "\u001b[0;31mNameError\u001b[0m                                 Traceback (most recent call last)",
      "\u001b[0;32m<ipython-input-2-2c06cf2a2615>\u001b[0m in \u001b[0;36m<module>\u001b[0;34m\u001b[0m\n\u001b[1;32m      1\u001b[0m \u001b[0mprint\u001b[0m\u001b[0;34m(\u001b[0m\u001b[0;34m'\\n***** A* on Grid 1 with Manhattan Distance*****'\u001b[0m\u001b[0;34m)\u001b[0m\u001b[0;34m\u001b[0m\u001b[0;34m\u001b[0m\u001b[0m\n\u001b[0;32m----> 2\u001b[0;31m \u001b[0mk_shortest_paths\u001b[0m \u001b[0;34m=\u001b[0m \u001b[0ma_star_k_shortest_path\u001b[0m\u001b[0;34m(\u001b[0m\u001b[0mgrid1\u001b[0m\u001b[0;34m,\u001b[0m \u001b[0mmanhattan_distance\u001b[0m\u001b[0;34m)\u001b[0m\u001b[0;34m\u001b[0m\u001b[0;34m\u001b[0m\u001b[0m\n\u001b[0m",
      "\u001b[0;31mNameError\u001b[0m: name 'grid1' is not defined"
     ]
    }
   ],
   "source": [
    "print('\\n***** A* on Grid 1 with Manhattan Distance*****')\n",
    "k_shortest_paths = a_star_k_shortest_path(grid1, manhattan_distance)"
   ]
  },
  {
   "cell_type": "code",
   "execution_count": null,
   "metadata": {},
   "outputs": [],
   "source": [
    "print(len(k_shortest_paths))\n",
    "for path in k_shortest_paths:\n",
    "    print(\"=============================================\")\n",
    "    grid1.print_path(path)"
   ]
  }
 ],
 "metadata": {
  "kernelspec": {
   "display_name": "Python 3",
   "language": "python",
   "name": "python3"
  },
  "language_info": {
   "codemirror_mode": {
    "name": "ipython",
    "version": 3
   },
   "file_extension": ".py",
   "mimetype": "text/x-python",
   "name": "python",
   "nbconvert_exporter": "python",
   "pygments_lexer": "ipython3",
   "version": "3.8.2"
  },
  "toc": {
   "base_numbering": 1,
   "nav_menu": {},
   "number_sections": true,
   "sideBar": true,
   "skip_h1_title": false,
   "title_cell": "Table of Contents",
   "title_sidebar": "Contents",
   "toc_cell": false,
   "toc_position": {},
   "toc_section_display": true,
   "toc_window_display": false
  }
 },
 "nbformat": 4,
 "nbformat_minor": 4
}
