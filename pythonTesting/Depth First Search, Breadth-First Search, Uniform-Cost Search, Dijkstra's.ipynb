{
 "cells": [
  {
   "cell_type": "markdown",
   "metadata": {},
   "source": [
    "<center><h1>DFS, BFS, Uniform-Cost Search, Dijkstra's</center></h1>"
   ]
  },
  {
   "cell_type": "markdown",
   "metadata": {},
   "source": [
    "This document provides a python implementations of Depth-First Search, Breadth-First Search, UCS, and Dijkstra's along with some visualizations, tests, and analysis. It was written for testing and learning purposes. Though the python implementation of the algorithm below is correct, you should also primarily use it for learning purposes only. The Java implementation in the parent `javaImplementation` directory is more efficient by virtue of the inherrant properties of the languages, and is what you should use if you're using the path planning library for any intensive search problems.\n",
    "\n",
    "<b>Note</b>: You might notice that I implement a lot of the functionality in a very object-oriented manner, I do this to make the eventual migration of this logic to Java easier."
   ]
  },
  {
   "cell_type": "markdown",
   "metadata": {},
   "source": [
    "<center><h2>Depth-First Search</h2></center>"
   ]
  },
  {
   "cell_type": "code",
   "execution_count": 1,
   "metadata": {},
   "outputs": [],
   "source": [
    "def DFS(problem):\n",
    "    \"\"\"Depth-First Seach\n",
    "    \n",
    "    Args:\n",
    "        problem: The problem we are running DFS on, includes start & goal states, get_neighbors, printing.\n",
    "        \n",
    "    Returns:\n",
    "        expanded: If a path to the goal state of given problem is found, return the path, otherwise None is returned.\n",
    "    \"\"\"\n",
    "    frontier = [problem.start_state]\n",
    "    frontier_set = set({})    # Making a set of frontier because checking if state is in a set is faster than in a stack\n",
    "    frontier_set.add(problem.start_state)\n",
    "    explored = set({})\n",
    "    \n",
    "    expanded = []\n",
    "    while (frontier):\n",
    "        curr_state = frontier.pop()\n",
    "        explored.add(curr_state)\n",
    "        expanded.append(curr_state)\n",
    "        \n",
    "        neighbors = problem.find_neighbors(curr_state)\n",
    "        for neighbor in neighbors:\n",
    "            if (problem.is_goal_state(neighbor)):\n",
    "                return expanded\n",
    "            if ((neighbor not in explored) and (neighbor not in frontier_set)):\n",
    "                frontier.append(neighbor)\n",
    "                frontier_set.add(neighbor)\n",
    "    \n",
    "    return None"
   ]
  },
  {
   "cell_type": "markdown",
   "metadata": {},
   "source": [
    "<h3>Testing</h3>"
   ]
  },
  {
   "cell_type": "code",
   "execution_count": null,
   "metadata": {},
   "outputs": [],
   "source": [
    "print('\\n***** DFS on Grid 1 *****')\n",
    "expanded_nodes1 = DFS(grid1)\n",
    "grid1.print_path(expanded_nodes1)\n",
    "\n",
    "print('\\n***** DFS on Grid 2 *****')\n",
    "expanded_nodes2 = DFS(grid2)\n",
    "grid2.print_path(expanded_nodes2)"
   ]
  },
  {
   "cell_type": "markdown",
   "metadata": {},
   "source": [
    "<center><h2>Breadth-First Search</h2></center>"
   ]
  },
  {
   "cell_type": "code",
   "execution_count": null,
   "metadata": {},
   "outputs": [],
   "source": [
    "from queue import Queue\n",
    "    \n",
    "def BFS(problem):\n",
    "    \"\"\"Depth-First Seach\n",
    "    \n",
    "    Args:\n",
    "        problem: The problem we are running BFS on, includes start & goal states, get_neighbors, printing.\n",
    "    \"\"\"\n",
    "    frontier = Queue()\n",
    "    frontier.put(problem.start_state)\n",
    "    frontier_set = set({})    # Making a set of frontier because checking if state is in a set is faster than in a stack\n",
    "    frontier_set.add(problem.start_state)\n",
    "    \n",
    "    explored = set({})\n",
    "    \n",
    "    expanded = []\n",
    "    while (frontier):\n",
    "        curr_state = frontier.get()\n",
    "        explored.add(curr_state)\n",
    "        expanded.append(curr_state)\n",
    "        \n",
    "        neighbors = problem.find_neighbors(curr_state)\n",
    "        for neighbor in neighbors:\n",
    "            if (problem.is_goal_state(neighbor)):\n",
    "                return expanded\n",
    "            if ((neighbor not in explored) and (neighbor not in frontier_set)):\n",
    "                frontier.put(neighbor)\n",
    "                frontier_set.add(neighbor)\n",
    "    \n",
    "    return None"
   ]
  },
  {
   "cell_type": "markdown",
   "metadata": {},
   "source": [
    "<h3>Testing</h3>"
   ]
  },
  {
   "cell_type": "code",
   "execution_count": null,
   "metadata": {},
   "outputs": [],
   "source": [
    "print('\\n***** BFS on Grid 1 *****')\n",
    "expanded_nodes1 = bfs(grid1)\n",
    "grid1.print_path(expanded_nodes1)\n",
    "\n",
    "print('\\n***** BFS on Grid 2 *****')\n",
    "expanded_nodes2 = bfs(grid2)\n",
    "grid2.print_path(expanded_nodes2)"
   ]
  },
  {
   "cell_type": "markdown",
   "metadata": {},
   "source": [
    "<center><h2>Uniform-Cost Search</h2></center>"
   ]
  },
  {
   "cell_type": "code",
   "execution_count": null,
   "metadata": {},
   "outputs": [],
   "source": []
  },
  {
   "cell_type": "code",
   "execution_count": null,
   "metadata": {},
   "outputs": [],
   "source": []
  },
  {
   "cell_type": "markdown",
   "metadata": {},
   "source": [
    "<center><h2>Dijkstra's</h2></center>"
   ]
  },
  {
   "cell_type": "code",
   "execution_count": null,
   "metadata": {},
   "outputs": [],
   "source": []
  },
  {
   "cell_type": "code",
   "execution_count": null,
   "metadata": {},
   "outputs": [],
   "source": []
  }
 ],
 "metadata": {
  "kernelspec": {
   "display_name": "Python 3",
   "language": "python",
   "name": "python3"
  },
  "language_info": {
   "codemirror_mode": {
    "name": "ipython",
    "version": 3
   },
   "file_extension": ".py",
   "mimetype": "text/x-python",
   "name": "python",
   "nbconvert_exporter": "python",
   "pygments_lexer": "ipython3",
   "version": "3.8.2"
  }
 },
 "nbformat": 4,
 "nbformat_minor": 2
}
